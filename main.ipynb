{
 "metadata": {
  "language_info": {
   "codemirror_mode": {
    "name": "ipython",
    "version": 3
   },
   "file_extension": ".py",
   "mimetype": "text/x-python",
   "name": "python",
   "nbconvert_exporter": "python",
   "pygments_lexer": "ipython3",
   "version": "3.9.4"
  },
  "orig_nbformat": 2,
  "kernelspec": {
   "name": "python394jvsc74a57bd02647ea34e536f865ab67ff9ddee7fd78773d956cec0cab53c79b32cd10da5d83",
   "display_name": "Python 3.9.4 64-bit"
  },
  "metadata": {
   "interpreter": {
    "hash": "2647ea34e536f865ab67ff9ddee7fd78773d956cec0cab53c79b32cd10da5d83"
   }
  }
 },
 "nbformat": 4,
 "nbformat_minor": 2,
 "cells": [
  {
   "source": [
    "# Linear Regression"
   ],
   "cell_type": "markdown",
   "metadata": {}
  },
  {
   "source": [
    "## Getting Data"
   ],
   "cell_type": "markdown",
   "metadata": {}
  },
  {
   "source": [
    "import pandas\n",
    "import plotly.express as px\n",
    "import numpy as np\n",
    "\n",
    "data_frame = pandas.read_csv(\"https://raw.githubusercontent.com/whitehatjr/datasets/master/main.csv\")\n",
    "print(data_frame)"
   ],
   "cell_type": "code",
   "metadata": {},
   "execution_count": 25,
   "outputs": [
    {
     "output_type": "stream",
     "name": "stdout",
     "text": [
      "     Serial No.  GRE Score  TOEFL Score  University Rating  SOP  LOR   CGPA  \\\n0             1        337          118                  4  4.5   4.5  9.65   \n1             2        324          107                  4  4.0   4.5  8.87   \n2             3        316          104                  3  3.0   3.5  8.00   \n3             4        322          110                  3  3.5   2.5  8.67   \n4             5        314          103                  2  2.0   3.0  8.21   \n..          ...        ...          ...                ...  ...   ...   ...   \n395         396        324          110                  3  3.5   3.5  9.04   \n396         397        325          107                  3  3.0   3.5  9.11   \n397         398        330          116                  4  5.0   4.5  9.45   \n398         399        312          103                  3  3.5   4.0  8.78   \n399         400        333          117                  4  5.0   4.0  9.66   \n\n     Research  Chance of Admit   \n0           1              0.92  \n1           1              0.76  \n2           1              0.72  \n3           1              0.80  \n4           0              0.65  \n..        ...               ...  \n395         1              0.82  \n396         1              0.84  \n397         1              0.91  \n398         0              0.67  \n399         1              0.95  \n\n[400 rows x 9 columns]\n"
     ]
    }
   ]
  },
  {
   "source": [
    "## Chance of Admitting on the basis of GRE Score"
   ],
   "cell_type": "markdown",
   "metadata": {}
  },
  {
   "cell_type": "code",
   "execution_count": 34,
   "metadata": {},
   "outputs": [
    {
     "output_type": "display_data",
     "data": {
      "application/vnd.plotly.v1+json": {
       "config": {
        "plotlyServerURL": "https://plot.ly"
       },
       "data": [
        {
         "hovertemplate": "GRE Score=%{x}<br>Chance of Admitting=%{y}<extra></extra>",
         "legendgroup": "",
         "marker": {
          "color": "#636efa",
          "symbol": "circle"
         },
         "mode": "markers",
         "name": "",
         "orientation": "v",
         "showlegend": false,
         "type": "scatter",
         "x": [
          337,
          324,
          316,
          322,
          314,
          330,
          321,
          308,
          302,
          323,
          325,
          327,
          328,
          307,
          311,
          314,
          317,
          319,
          318,
          303,
          312,
          325,
          328,
          334,
          336,
          340,
          322,
          298,
          295,
          310,
          300,
          327,
          338,
          340,
          331,
          320,
          299,
          300,
          304,
          307,
          308,
          316,
          313,
          332,
          326,
          322,
          329,
          339,
          321,
          327,
          313,
          312,
          334,
          324,
          322,
          320,
          316,
          298,
          300,
          311,
          309,
          307,
          304,
          315,
          325,
          325,
          327,
          316,
          318,
          328,
          332,
          336,
          321,
          314,
          314,
          329,
          327,
          301,
          296,
          294,
          312,
          340,
          320,
          322,
          340,
          319,
          315,
          317,
          314,
          316,
          318,
          299,
          298,
          301,
          303,
          304,
          306,
          331,
          332,
          323,
          322,
          312,
          314,
          317,
          326,
          316,
          329,
          338,
          331,
          304,
          305,
          321,
          301,
          320,
          311,
          310,
          299,
          290,
          296,
          327,
          335,
          334,
          310,
          308,
          301,
          300,
          323,
          319,
          326,
          333,
          339,
          303,
          309,
          323,
          333,
          314,
          312,
          316,
          326,
          318,
          329,
          332,
          331,
          340,
          325,
          320,
          315,
          326,
          339,
          311,
          334,
          332,
          321,
          324,
          326,
          312,
          315,
          309,
          306,
          297,
          315,
          298,
          318,
          317,
          329,
          322,
          302,
          313,
          293,
          311,
          312,
          334,
          322,
          323,
          321,
          320,
          329,
          319,
          309,
          307,
          300,
          305,
          299,
          314,
          316,
          327,
          317,
          335,
          331,
          324,
          324,
          323,
          322,
          336,
          316,
          307,
          306,
          310,
          311,
          313,
          317,
          315,
          340,
          334,
          298,
          295,
          315,
          310,
          305,
          301,
          325,
          328,
          338,
          333,
          331,
          330,
          322,
          321,
          324,
          312,
          313,
          316,
          324,
          308,
          305,
          296,
          306,
          312,
          318,
          324,
          313,
          319,
          312,
          304,
          330,
          326,
          325,
          329,
          310,
          299,
          296,
          317,
          324,
          325,
          314,
          328,
          316,
          311,
          324,
          321,
          320,
          316,
          318,
          335,
          321,
          307,
          309,
          324,
          326,
          331,
          327,
          312,
          308,
          324,
          325,
          313,
          312,
          314,
          327,
          308,
          306,
          299,
          294,
          312,
          315,
          322,
          329,
          320,
          308,
          304,
          311,
          317,
          312,
          321,
          340,
          331,
          336,
          324,
          314,
          313,
          307,
          300,
          302,
          312,
          316,
          317,
          310,
          320,
          330,
          305,
          309,
          319,
          322,
          323,
          313,
          321,
          323,
          325,
          312,
          308,
          320,
          328,
          311,
          301,
          305,
          308,
          298,
          300,
          324,
          327,
          317,
          323,
          314,
          305,
          315,
          326,
          299,
          295,
          324,
          297,
          327,
          311,
          308,
          319,
          312,
          325,
          319,
          332,
          323,
          324,
          312,
          326,
          308,
          305,
          295,
          316,
          304,
          299,
          302,
          313,
          318,
          325,
          303,
          300,
          297,
          317,
          327,
          301,
          314,
          321,
          322,
          334,
          338,
          306,
          313,
          330,
          320,
          311,
          298,
          301,
          310,
          324,
          336,
          321,
          315,
          304,
          297,
          290,
          303,
          311,
          322,
          319,
          324,
          300,
          340,
          335,
          302,
          307,
          296,
          320,
          314,
          318,
          326,
          317,
          329,
          324,
          325,
          330,
          312,
          333
         ],
         "xaxis": "x",
         "y": [
          0.92,
          0.76,
          0.72,
          0.8,
          0.65,
          0.9,
          0.75,
          0.68,
          0.5,
          0.45,
          0.52,
          0.84,
          0.78,
          0.62,
          0.61,
          0.54,
          0.66,
          0.65,
          0.63,
          0.62,
          0.64,
          0.7,
          0.94,
          0.95,
          0.97,
          0.94,
          0.76,
          0.44,
          0.46,
          0.54,
          0.65,
          0.74,
          0.91,
          0.9,
          0.94,
          0.88,
          0.64,
          0.58,
          0.52,
          0.48,
          0.46,
          0.49,
          0.53,
          0.87,
          0.91,
          0.88,
          0.86,
          0.89,
          0.82,
          0.78,
          0.76,
          0.56,
          0.78,
          0.72,
          0.7,
          0.64,
          0.64,
          0.46,
          0.36,
          0.42,
          0.48,
          0.47,
          0.54,
          0.56,
          0.52,
          0.55,
          0.61,
          0.57,
          0.68,
          0.78,
          0.94,
          0.96,
          0.93,
          0.84,
          0.74,
          0.72,
          0.74,
          0.64,
          0.44,
          0.46,
          0.5,
          0.96,
          0.92,
          0.92,
          0.94,
          0.76,
          0.72,
          0.66,
          0.64,
          0.74,
          0.64,
          0.38,
          0.34,
          0.44,
          0.36,
          0.42,
          0.48,
          0.86,
          0.9,
          0.79,
          0.71,
          0.64,
          0.62,
          0.57,
          0.74,
          0.69,
          0.87,
          0.91,
          0.93,
          0.68,
          0.61,
          0.69,
          0.62,
          0.72,
          0.59,
          0.66,
          0.56,
          0.45,
          0.47,
          0.71,
          0.94,
          0.94,
          0.57,
          0.61,
          0.57,
          0.64,
          0.85,
          0.78,
          0.84,
          0.92,
          0.96,
          0.77,
          0.71,
          0.79,
          0.89,
          0.82,
          0.76,
          0.71,
          0.8,
          0.78,
          0.84,
          0.9,
          0.92,
          0.97,
          0.8,
          0.81,
          0.75,
          0.83,
          0.96,
          0.79,
          0.93,
          0.94,
          0.86,
          0.79,
          0.8,
          0.77,
          0.7,
          0.65,
          0.61,
          0.52,
          0.57,
          0.53,
          0.67,
          0.68,
          0.81,
          0.78,
          0.65,
          0.64,
          0.64,
          0.65,
          0.68,
          0.89,
          0.86,
          0.89,
          0.87,
          0.85,
          0.9,
          0.82,
          0.72,
          0.73,
          0.71,
          0.71,
          0.68,
          0.75,
          0.72,
          0.89,
          0.84,
          0.93,
          0.93,
          0.88,
          0.9,
          0.87,
          0.86,
          0.94,
          0.77,
          0.78,
          0.73,
          0.73,
          0.7,
          0.72,
          0.73,
          0.72,
          0.97,
          0.97,
          0.69,
          0.57,
          0.63,
          0.66,
          0.64,
          0.68,
          0.79,
          0.82,
          0.95,
          0.96,
          0.94,
          0.93,
          0.91,
          0.85,
          0.84,
          0.74,
          0.76,
          0.75,
          0.76,
          0.71,
          0.67,
          0.61,
          0.63,
          0.64,
          0.71,
          0.82,
          0.73,
          0.74,
          0.69,
          0.64,
          0.91,
          0.88,
          0.85,
          0.86,
          0.7,
          0.59,
          0.6,
          0.65,
          0.7,
          0.76,
          0.63,
          0.81,
          0.72,
          0.71,
          0.8,
          0.77,
          0.74,
          0.7,
          0.71,
          0.93,
          0.85,
          0.79,
          0.76,
          0.78,
          0.77,
          0.9,
          0.87,
          0.71,
          0.7,
          0.7,
          0.75,
          0.71,
          0.72,
          0.73,
          0.83,
          0.77,
          0.72,
          0.54,
          0.49,
          0.52,
          0.58,
          0.78,
          0.89,
          0.7,
          0.66,
          0.67,
          0.68,
          0.8,
          0.81,
          0.8,
          0.94,
          0.93,
          0.92,
          0.89,
          0.82,
          0.79,
          0.58,
          0.56,
          0.56,
          0.64,
          0.61,
          0.68,
          0.76,
          0.86,
          0.9,
          0.71,
          0.62,
          0.66,
          0.65,
          0.73,
          0.62,
          0.74,
          0.79,
          0.8,
          0.69,
          0.7,
          0.76,
          0.84,
          0.78,
          0.67,
          0.66,
          0.65,
          0.54,
          0.58,
          0.79,
          0.8,
          0.75,
          0.73,
          0.72,
          0.62,
          0.67,
          0.81,
          0.63,
          0.69,
          0.8,
          0.43,
          0.8,
          0.73,
          0.75,
          0.71,
          0.73,
          0.83,
          0.72,
          0.94,
          0.81,
          0.81,
          0.75,
          0.79,
          0.58,
          0.59,
          0.47,
          0.49,
          0.47,
          0.42,
          0.57,
          0.62,
          0.74,
          0.73,
          0.64,
          0.63,
          0.59,
          0.73,
          0.79,
          0.68,
          0.7,
          0.81,
          0.85,
          0.93,
          0.91,
          0.69,
          0.77,
          0.86,
          0.74,
          0.57,
          0.51,
          0.67,
          0.72,
          0.89,
          0.95,
          0.79,
          0.39,
          0.38,
          0.34,
          0.47,
          0.56,
          0.71,
          0.78,
          0.73,
          0.82,
          0.62,
          0.96,
          0.96,
          0.46,
          0.53,
          0.49,
          0.76,
          0.64,
          0.71,
          0.84,
          0.77,
          0.89,
          0.82,
          0.84,
          0.91,
          0.67,
          0.95
         ],
         "yaxis": "y"
        }
       ],
       "layout": {
        "legend": {
         "tracegroupgap": 0
        },
        "shapes": [
         {
          "type": "line",
          "x0": 290,
          "x1": 340,
          "y0": 0.45692154259654627,
          "y1": 0.9557156438806151
         }
        ],
        "template": {
         "data": {
          "bar": [
           {
            "error_x": {
             "color": "#2a3f5f"
            },
            "error_y": {
             "color": "#2a3f5f"
            },
            "marker": {
             "line": {
              "color": "#E5ECF6",
              "width": 0.5
             }
            },
            "type": "bar"
           }
          ],
          "barpolar": [
           {
            "marker": {
             "line": {
              "color": "#E5ECF6",
              "width": 0.5
             }
            },
            "type": "barpolar"
           }
          ],
          "carpet": [
           {
            "aaxis": {
             "endlinecolor": "#2a3f5f",
             "gridcolor": "white",
             "linecolor": "white",
             "minorgridcolor": "white",
             "startlinecolor": "#2a3f5f"
            },
            "baxis": {
             "endlinecolor": "#2a3f5f",
             "gridcolor": "white",
             "linecolor": "white",
             "minorgridcolor": "white",
             "startlinecolor": "#2a3f5f"
            },
            "type": "carpet"
           }
          ],
          "choropleth": [
           {
            "colorbar": {
             "outlinewidth": 0,
             "ticks": ""
            },
            "type": "choropleth"
           }
          ],
          "contour": [
           {
            "colorbar": {
             "outlinewidth": 0,
             "ticks": ""
            },
            "colorscale": [
             [
              0,
              "#0d0887"
             ],
             [
              0.1111111111111111,
              "#46039f"
             ],
             [
              0.2222222222222222,
              "#7201a8"
             ],
             [
              0.3333333333333333,
              "#9c179e"
             ],
             [
              0.4444444444444444,
              "#bd3786"
             ],
             [
              0.5555555555555556,
              "#d8576b"
             ],
             [
              0.6666666666666666,
              "#ed7953"
             ],
             [
              0.7777777777777778,
              "#fb9f3a"
             ],
             [
              0.8888888888888888,
              "#fdca26"
             ],
             [
              1,
              "#f0f921"
             ]
            ],
            "type": "contour"
           }
          ],
          "contourcarpet": [
           {
            "colorbar": {
             "outlinewidth": 0,
             "ticks": ""
            },
            "type": "contourcarpet"
           }
          ],
          "heatmap": [
           {
            "colorbar": {
             "outlinewidth": 0,
             "ticks": ""
            },
            "colorscale": [
             [
              0,
              "#0d0887"
             ],
             [
              0.1111111111111111,
              "#46039f"
             ],
             [
              0.2222222222222222,
              "#7201a8"
             ],
             [
              0.3333333333333333,
              "#9c179e"
             ],
             [
              0.4444444444444444,
              "#bd3786"
             ],
             [
              0.5555555555555556,
              "#d8576b"
             ],
             [
              0.6666666666666666,
              "#ed7953"
             ],
             [
              0.7777777777777778,
              "#fb9f3a"
             ],
             [
              0.8888888888888888,
              "#fdca26"
             ],
             [
              1,
              "#f0f921"
             ]
            ],
            "type": "heatmap"
           }
          ],
          "heatmapgl": [
           {
            "colorbar": {
             "outlinewidth": 0,
             "ticks": ""
            },
            "colorscale": [
             [
              0,
              "#0d0887"
             ],
             [
              0.1111111111111111,
              "#46039f"
             ],
             [
              0.2222222222222222,
              "#7201a8"
             ],
             [
              0.3333333333333333,
              "#9c179e"
             ],
             [
              0.4444444444444444,
              "#bd3786"
             ],
             [
              0.5555555555555556,
              "#d8576b"
             ],
             [
              0.6666666666666666,
              "#ed7953"
             ],
             [
              0.7777777777777778,
              "#fb9f3a"
             ],
             [
              0.8888888888888888,
              "#fdca26"
             ],
             [
              1,
              "#f0f921"
             ]
            ],
            "type": "heatmapgl"
           }
          ],
          "histogram": [
           {
            "marker": {
             "colorbar": {
              "outlinewidth": 0,
              "ticks": ""
             }
            },
            "type": "histogram"
           }
          ],
          "histogram2d": [
           {
            "colorbar": {
             "outlinewidth": 0,
             "ticks": ""
            },
            "colorscale": [
             [
              0,
              "#0d0887"
             ],
             [
              0.1111111111111111,
              "#46039f"
             ],
             [
              0.2222222222222222,
              "#7201a8"
             ],
             [
              0.3333333333333333,
              "#9c179e"
             ],
             [
              0.4444444444444444,
              "#bd3786"
             ],
             [
              0.5555555555555556,
              "#d8576b"
             ],
             [
              0.6666666666666666,
              "#ed7953"
             ],
             [
              0.7777777777777778,
              "#fb9f3a"
             ],
             [
              0.8888888888888888,
              "#fdca26"
             ],
             [
              1,
              "#f0f921"
             ]
            ],
            "type": "histogram2d"
           }
          ],
          "histogram2dcontour": [
           {
            "colorbar": {
             "outlinewidth": 0,
             "ticks": ""
            },
            "colorscale": [
             [
              0,
              "#0d0887"
             ],
             [
              0.1111111111111111,
              "#46039f"
             ],
             [
              0.2222222222222222,
              "#7201a8"
             ],
             [
              0.3333333333333333,
              "#9c179e"
             ],
             [
              0.4444444444444444,
              "#bd3786"
             ],
             [
              0.5555555555555556,
              "#d8576b"
             ],
             [
              0.6666666666666666,
              "#ed7953"
             ],
             [
              0.7777777777777778,
              "#fb9f3a"
             ],
             [
              0.8888888888888888,
              "#fdca26"
             ],
             [
              1,
              "#f0f921"
             ]
            ],
            "type": "histogram2dcontour"
           }
          ],
          "mesh3d": [
           {
            "colorbar": {
             "outlinewidth": 0,
             "ticks": ""
            },
            "type": "mesh3d"
           }
          ],
          "parcoords": [
           {
            "line": {
             "colorbar": {
              "outlinewidth": 0,
              "ticks": ""
             }
            },
            "type": "parcoords"
           }
          ],
          "pie": [
           {
            "automargin": true,
            "type": "pie"
           }
          ],
          "scatter": [
           {
            "marker": {
             "colorbar": {
              "outlinewidth": 0,
              "ticks": ""
             }
            },
            "type": "scatter"
           }
          ],
          "scatter3d": [
           {
            "line": {
             "colorbar": {
              "outlinewidth": 0,
              "ticks": ""
             }
            },
            "marker": {
             "colorbar": {
              "outlinewidth": 0,
              "ticks": ""
             }
            },
            "type": "scatter3d"
           }
          ],
          "scattercarpet": [
           {
            "marker": {
             "colorbar": {
              "outlinewidth": 0,
              "ticks": ""
             }
            },
            "type": "scattercarpet"
           }
          ],
          "scattergeo": [
           {
            "marker": {
             "colorbar": {
              "outlinewidth": 0,
              "ticks": ""
             }
            },
            "type": "scattergeo"
           }
          ],
          "scattergl": [
           {
            "marker": {
             "colorbar": {
              "outlinewidth": 0,
              "ticks": ""
             }
            },
            "type": "scattergl"
           }
          ],
          "scattermapbox": [
           {
            "marker": {
             "colorbar": {
              "outlinewidth": 0,
              "ticks": ""
             }
            },
            "type": "scattermapbox"
           }
          ],
          "scatterpolar": [
           {
            "marker": {
             "colorbar": {
              "outlinewidth": 0,
              "ticks": ""
             }
            },
            "type": "scatterpolar"
           }
          ],
          "scatterpolargl": [
           {
            "marker": {
             "colorbar": {
              "outlinewidth": 0,
              "ticks": ""
             }
            },
            "type": "scatterpolargl"
           }
          ],
          "scatterternary": [
           {
            "marker": {
             "colorbar": {
              "outlinewidth": 0,
              "ticks": ""
             }
            },
            "type": "scatterternary"
           }
          ],
          "surface": [
           {
            "colorbar": {
             "outlinewidth": 0,
             "ticks": ""
            },
            "colorscale": [
             [
              0,
              "#0d0887"
             ],
             [
              0.1111111111111111,
              "#46039f"
             ],
             [
              0.2222222222222222,
              "#7201a8"
             ],
             [
              0.3333333333333333,
              "#9c179e"
             ],
             [
              0.4444444444444444,
              "#bd3786"
             ],
             [
              0.5555555555555556,
              "#d8576b"
             ],
             [
              0.6666666666666666,
              "#ed7953"
             ],
             [
              0.7777777777777778,
              "#fb9f3a"
             ],
             [
              0.8888888888888888,
              "#fdca26"
             ],
             [
              1,
              "#f0f921"
             ]
            ],
            "type": "surface"
           }
          ],
          "table": [
           {
            "cells": {
             "fill": {
              "color": "#EBF0F8"
             },
             "line": {
              "color": "white"
             }
            },
            "header": {
             "fill": {
              "color": "#C8D4E3"
             },
             "line": {
              "color": "white"
             }
            },
            "type": "table"
           }
          ]
         },
         "layout": {
          "annotationdefaults": {
           "arrowcolor": "#2a3f5f",
           "arrowhead": 0,
           "arrowwidth": 1
          },
          "autotypenumbers": "strict",
          "coloraxis": {
           "colorbar": {
            "outlinewidth": 0,
            "ticks": ""
           }
          },
          "colorscale": {
           "diverging": [
            [
             0,
             "#8e0152"
            ],
            [
             0.1,
             "#c51b7d"
            ],
            [
             0.2,
             "#de77ae"
            ],
            [
             0.3,
             "#f1b6da"
            ],
            [
             0.4,
             "#fde0ef"
            ],
            [
             0.5,
             "#f7f7f7"
            ],
            [
             0.6,
             "#e6f5d0"
            ],
            [
             0.7,
             "#b8e186"
            ],
            [
             0.8,
             "#7fbc41"
            ],
            [
             0.9,
             "#4d9221"
            ],
            [
             1,
             "#276419"
            ]
           ],
           "sequential": [
            [
             0,
             "#0d0887"
            ],
            [
             0.1111111111111111,
             "#46039f"
            ],
            [
             0.2222222222222222,
             "#7201a8"
            ],
            [
             0.3333333333333333,
             "#9c179e"
            ],
            [
             0.4444444444444444,
             "#bd3786"
            ],
            [
             0.5555555555555556,
             "#d8576b"
            ],
            [
             0.6666666666666666,
             "#ed7953"
            ],
            [
             0.7777777777777778,
             "#fb9f3a"
            ],
            [
             0.8888888888888888,
             "#fdca26"
            ],
            [
             1,
             "#f0f921"
            ]
           ],
           "sequentialminus": [
            [
             0,
             "#0d0887"
            ],
            [
             0.1111111111111111,
             "#46039f"
            ],
            [
             0.2222222222222222,
             "#7201a8"
            ],
            [
             0.3333333333333333,
             "#9c179e"
            ],
            [
             0.4444444444444444,
             "#bd3786"
            ],
            [
             0.5555555555555556,
             "#d8576b"
            ],
            [
             0.6666666666666666,
             "#ed7953"
            ],
            [
             0.7777777777777778,
             "#fb9f3a"
            ],
            [
             0.8888888888888888,
             "#fdca26"
            ],
            [
             1,
             "#f0f921"
            ]
           ]
          },
          "colorway": [
           "#636efa",
           "#EF553B",
           "#00cc96",
           "#ab63fa",
           "#FFA15A",
           "#19d3f3",
           "#FF6692",
           "#B6E880",
           "#FF97FF",
           "#FECB52"
          ],
          "font": {
           "color": "#2a3f5f"
          },
          "geo": {
           "bgcolor": "white",
           "lakecolor": "white",
           "landcolor": "#E5ECF6",
           "showlakes": true,
           "showland": true,
           "subunitcolor": "white"
          },
          "hoverlabel": {
           "align": "left"
          },
          "hovermode": "closest",
          "mapbox": {
           "style": "light"
          },
          "paper_bgcolor": "white",
          "plot_bgcolor": "#E5ECF6",
          "polar": {
           "angularaxis": {
            "gridcolor": "white",
            "linecolor": "white",
            "ticks": ""
           },
           "bgcolor": "#E5ECF6",
           "radialaxis": {
            "gridcolor": "white",
            "linecolor": "white",
            "ticks": ""
           }
          },
          "scene": {
           "xaxis": {
            "backgroundcolor": "#E5ECF6",
            "gridcolor": "white",
            "gridwidth": 2,
            "linecolor": "white",
            "showbackground": true,
            "ticks": "",
            "zerolinecolor": "white"
           },
           "yaxis": {
            "backgroundcolor": "#E5ECF6",
            "gridcolor": "white",
            "gridwidth": 2,
            "linecolor": "white",
            "showbackground": true,
            "ticks": "",
            "zerolinecolor": "white"
           },
           "zaxis": {
            "backgroundcolor": "#E5ECF6",
            "gridcolor": "white",
            "gridwidth": 2,
            "linecolor": "white",
            "showbackground": true,
            "ticks": "",
            "zerolinecolor": "white"
           }
          },
          "shapedefaults": {
           "line": {
            "color": "#2a3f5f"
           }
          },
          "ternary": {
           "aaxis": {
            "gridcolor": "white",
            "linecolor": "white",
            "ticks": ""
           },
           "baxis": {
            "gridcolor": "white",
            "linecolor": "white",
            "ticks": ""
           },
           "bgcolor": "#E5ECF6",
           "caxis": {
            "gridcolor": "white",
            "linecolor": "white",
            "ticks": ""
           }
          },
          "title": {
           "x": 0.05
          },
          "xaxis": {
           "automargin": true,
           "gridcolor": "white",
           "linecolor": "white",
           "ticks": "",
           "title": {
            "standoff": 15
           },
           "zerolinecolor": "white",
           "zerolinewidth": 2
          },
          "yaxis": {
           "automargin": true,
           "gridcolor": "white",
           "linecolor": "white",
           "ticks": "",
           "title": {
            "standoff": 15
           },
           "zerolinecolor": "white",
           "zerolinewidth": 2
          }
         }
        },
        "title": {
         "text": "Chance of Admitting on the basis of GRE Score"
        },
        "xaxis": {
         "anchor": "y",
         "domain": [
          0,
          1
         ],
         "title": {
          "text": "GRE Score"
         }
        },
        "yaxis": {
         "anchor": "x",
         "domain": [
          0,
          1
         ],
         "title": {
          "text": "Chance of Admitting"
         }
        }
       }
      }
     },
     "metadata": {}
    }
   ],
   "source": [
    "gre_score = list(data_frame[\"GRE Score\"])\n",
    "coa = list(data_frame[\"Chance of Admit \"])\n",
    "\n",
    "m, c = np.polyfit(gre_score, coa, 1)\n",
    "\n",
    "y = []\n",
    "\n",
    "for x in gre_score:\n",
    "    value = m * x + c\n",
    "    y.append(value)\n",
    "\n",
    "\n",
    "figure = px.scatter(x=gre_score, y=coa, labels=dict(x=\"GRE Score\", y=\"Chance of Admitting\"), title=\"Chance of Admitting on the basis of GRE Score\")\n",
    "\n",
    "figure.update_layout(shapes=[dict(type=\"line\", x0=min(gre_score), x1=max(gre_score), y0=min(y), y1=max(y))])\n",
    "\n",
    "figure.show()\n"
   ]
  },
  {
   "cell_type": "code",
   "execution_count": null,
   "metadata": {},
   "outputs": [],
   "source": []
  }
 ]
}